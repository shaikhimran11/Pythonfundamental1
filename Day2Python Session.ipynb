{
 "cells": [
  {
   "cell_type": "code",
   "execution_count": null,
   "id": "f6035472",
   "metadata": {},
   "outputs": [],
   "source": [
    "Variable define in Python"
   ]
  },
  {
   "cell_type": "code",
   "execution_count": 5,
   "id": "0c5519f7",
   "metadata": {},
   "outputs": [
    {
     "name": "stdout",
     "output_type": "stream",
     "text": [
      "15\n"
     ]
    }
   ],
   "source": [
    "x = 5\n",
    "y = 10\n",
    "z=x+y\n",
    "print(z)"
   ]
  },
  {
   "cell_type": "code",
   "execution_count": null,
   "id": "0c37f29c",
   "metadata": {},
   "outputs": [],
   "source": [
    "Rule for the declaring varibale in python\n"
   ]
  },
  {
   "cell_type": "code",
   "execution_count": null,
   "id": "61724eae",
   "metadata": {},
   "outputs": [],
   "source": [
    "Rule No  1 No Namescpace while declaring the variable"
   ]
  },
  {
   "cell_type": "code",
   "execution_count": 7,
   "id": "664afb5a",
   "metadata": {},
   "outputs": [
    {
     "ename": "SyntaxError",
     "evalue": "invalid syntax (178358352.py, line 1)",
     "output_type": "error",
     "traceback": [
      "\u001b[1;36m  Input \u001b[1;32mIn [7]\u001b[1;36m\u001b[0m\n\u001b[1;33m    first name ='Imran'\u001b[0m\n\u001b[1;37m          ^\u001b[0m\n\u001b[1;31mSyntaxError\u001b[0m\u001b[1;31m:\u001b[0m invalid syntax\n"
     ]
    }
   ],
   "source": [
    "first name ='Imran'\n",
    "print(first name)"
   ]
  },
  {
   "cell_type": "code",
   "execution_count": 8,
   "id": "4616c36c",
   "metadata": {},
   "outputs": [
    {
     "name": "stdout",
     "output_type": "stream",
     "text": [
      "Imran\n"
     ]
    }
   ],
   "source": [
    "firstname='Imran'\n",
    "print(firstname)"
   ]
  },
  {
   "cell_type": "code",
   "execution_count": null,
   "id": "f2862f29",
   "metadata": {},
   "outputs": [],
   "source": [
    "Rule no 2 A variable name should not start with a number**"
   ]
  },
  {
   "cell_type": "code",
   "execution_count": 9,
   "id": "39c10965",
   "metadata": {},
   "outputs": [
    {
     "ename": "SyntaxError",
     "evalue": "invalid syntax (3311954283.py, line 1)",
     "output_type": "error",
     "traceback": [
      "\u001b[1;36m  Input \u001b[1;32mIn [9]\u001b[1;36m\u001b[0m\n\u001b[1;33m    1name=Ajay\u001b[0m\n\u001b[1;37m     ^\u001b[0m\n\u001b[1;31mSyntaxError\u001b[0m\u001b[1;31m:\u001b[0m invalid syntax\n"
     ]
    }
   ],
   "source": [
    "1name=Ajay\n",
    "print(1name)"
   ]
  },
  {
   "cell_type": "code",
   "execution_count": 11,
   "id": "d0c54fe3",
   "metadata": {},
   "outputs": [
    {
     "name": "stdout",
     "output_type": "stream",
     "text": [
      "kumar\n"
     ]
    }
   ],
   "source": [
    "name1='kumar'\n",
    "print(name1)"
   ]
  },
  {
   "cell_type": "code",
   "execution_count": null,
   "id": "ff4c56cb",
   "metadata": {},
   "outputs": [],
   "source": [
    "Rule no 3 Variable name should not contain any special characters"
   ]
  },
  {
   "cell_type": "code",
   "execution_count": null,
   "id": "2c23d0f6",
   "metadata": {},
   "outputs": [],
   "source": [
    "@16"
   ]
  },
  {
   "cell_type": "code",
   "execution_count": 12,
   "id": "cbc5e82c",
   "metadata": {},
   "outputs": [
    {
     "ename": "SyntaxError",
     "evalue": "invalid syntax (1212034237.py, line 2)",
     "output_type": "error",
     "traceback": [
      "\u001b[1;36m  Input \u001b[1;32mIn [12]\u001b[1;36m\u001b[0m\n\u001b[1;33m    print(name@)\u001b[0m\n\u001b[1;37m               ^\u001b[0m\n\u001b[1;31mSyntaxError\u001b[0m\u001b[1;31m:\u001b[0m invalid syntax\n"
     ]
    }
   ],
   "source": [
    "name@=\"Naveen\"\n",
    "print(name@)"
   ]
  },
  {
   "cell_type": "code",
   "execution_count": null,
   "id": "e1749778",
   "metadata": {},
   "outputs": [],
   "source": [
    "datatype in Python"
   ]
  },
  {
   "cell_type": "code",
   "execution_count": null,
   "id": "0a23fdf7",
   "metadata": {},
   "outputs": [],
   "source": [
    "1.String---str\n",
    "2.number----integer (int) and floats (float) decimal\n",
    "3.lists--->list\n",
    "4.tuples--->tuples\n",
    "5.Dictionaries-dict"
   ]
  },
  {
   "cell_type": "code",
   "execution_count": null,
   "id": "a375911c",
   "metadata": {},
   "outputs": [],
   "source": [
    "Classification  how to declare the string data type?\n",
    "1.single quote\n",
    "2.double quote\n",
    "3.triple quote\n"
   ]
  },
  {
   "cell_type": "code",
   "execution_count": 13,
   "id": "87516bb7",
   "metadata": {},
   "outputs": [
    {
     "name": "stdout",
     "output_type": "stream",
     "text": [
      "Amit\n"
     ]
    }
   ],
   "source": [
    "name1= 'Amit'  # single quote\n",
    "print(name1)"
   ]
  },
  {
   "cell_type": "code",
   "execution_count": 14,
   "id": "44f4851b",
   "metadata": {},
   "outputs": [
    {
     "name": "stdout",
     "output_type": "stream",
     "text": [
      "Kumar\n"
     ]
    }
   ],
   "source": [
    "name2= \"Kumar\"  # double quote\n",
    "print(name2)"
   ]
  },
  {
   "cell_type": "code",
   "execution_count": 15,
   "id": "5629329a",
   "metadata": {},
   "outputs": [
    {
     "name": "stdout",
     "output_type": "stream",
     "text": [
      "Ajay\n"
     ]
    }
   ],
   "source": [
    "name3= \"Ajay\"  # triple quote\n",
    "print(name3)"
   ]
  },
  {
   "cell_type": "code",
   "execution_count": null,
   "id": "c90b483f",
   "metadata": {},
   "outputs": [],
   "source": []
  },
  {
   "cell_type": "code",
   "execution_count": null,
   "id": "d58a1876",
   "metadata": {},
   "outputs": [],
   "source": []
  },
  {
   "cell_type": "code",
   "execution_count": null,
   "id": "f47e7352",
   "metadata": {},
   "outputs": [],
   "source": []
  }
 ],
 "metadata": {
  "kernelspec": {
   "display_name": "Python 3 (ipykernel)",
   "language": "python",
   "name": "python3"
  },
  "language_info": {
   "codemirror_mode": {
    "name": "ipython",
    "version": 3
   },
   "file_extension": ".py",
   "mimetype": "text/x-python",
   "name": "python",
   "nbconvert_exporter": "python",
   "pygments_lexer": "ipython3",
   "version": "3.9.12"
  }
 },
 "nbformat": 4,
 "nbformat_minor": 5
}
